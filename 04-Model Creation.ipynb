{
 "cells": [
  {
   "cell_type": "code",
   "execution_count": 1,
   "id": "3cec3af5",
   "metadata": {},
   "outputs": [],
   "source": [
    "import warnings\n",
    "import numpy as np\n",
    "import pandas as pd\n",
    "import seaborn as sns\n",
    "warnings.filterwarnings(\"ignore\")\n",
    "from matplotlib import pyplot as plt"
   ]
  },
  {
   "cell_type": "code",
   "execution_count": 2,
   "id": "925e3012",
   "metadata": {},
   "outputs": [],
   "source": [
    "X=pd.read_csv('x_data.csv')"
   ]
  },
  {
   "cell_type": "code",
   "execution_count": 3,
   "id": "70d71ee1",
   "metadata": {},
   "outputs": [],
   "source": [
    "y=pd.read_csv('y_data.csv')"
   ]
  },
  {
   "cell_type": "code",
   "execution_count": 4,
   "id": "695640fc",
   "metadata": {},
   "outputs": [],
   "source": [
    "# Splitting the dataset into the Training set and Test set\n",
    "from sklearn.model_selection import train_test_split\n",
    "X_train, X_test, y_train, y_test = train_test_split(X, y, test_size = 0.1, random_state = 0)"
   ]
  },
  {
   "cell_type": "code",
   "execution_count": 5,
   "id": "8c3e7941",
   "metadata": {},
   "outputs": [],
   "source": [
    "# Feature Scaling\n",
    "from sklearn.preprocessing import StandardScaler\n",
    "sc_X = StandardScaler()\n",
    "X_train = sc_X.fit_transform(X_train)\n",
    "X_test = sc_X.transform(X_test)\n",
    "sc_y = StandardScaler()\n",
    "y_train = sc_y.fit_transform(y_train)"
   ]
  },
  {
   "cell_type": "code",
   "execution_count": 6,
   "id": "5a511fe8",
   "metadata": {},
   "outputs": [
    {
     "data": {
      "text/plain": [
       "LinearRegression()"
      ]
     },
     "execution_count": 6,
     "metadata": {},
     "output_type": "execute_result"
    }
   ],
   "source": [
    "# Fitting Simple Linear Regression to the Training set\n",
    "from sklearn.linear_model import LinearRegression\n",
    "regressor = LinearRegression()\n",
    "regressor.fit(X_train, y_train)"
   ]
  },
  {
   "cell_type": "code",
   "execution_count": 7,
   "id": "66665351",
   "metadata": {},
   "outputs": [
    {
     "data": {
      "text/plain": [
       "array([[ 0.08127871],\n",
       "       [-0.89680693],\n",
       "       [ 0.6041706 ],\n",
       "       [-0.47370148],\n",
       "       [ 0.69011109],\n",
       "       [-0.4075744 ],\n",
       "       [ 2.07865149],\n",
       "       [-0.40555661],\n",
       "       [ 1.39846159],\n",
       "       [ 0.11056483],\n",
       "       [ 2.08110271],\n",
       "       [-0.54528623],\n",
       "       [-0.90415591],\n",
       "       [-0.80875382],\n",
       "       [-0.850263  ],\n",
       "       [ 0.38715941],\n",
       "       [-1.02209259],\n",
       "       [-0.56217131],\n",
       "       [-0.10998719],\n",
       "       [-0.81826867],\n",
       "       [ 0.45814376],\n",
       "       [-0.3015916 ],\n",
       "       [-0.84245961],\n",
       "       [-0.80691651],\n",
       "       [-0.52073877],\n",
       "       [ 2.87906438],\n",
       "       [ 0.05018877],\n",
       "       [-0.28372829],\n",
       "       [ 1.06503164],\n",
       "       [-0.61471271],\n",
       "       [-0.76200644],\n",
       "       [-0.78134524],\n",
       "       [-0.70177569],\n",
       "       [-0.76927709],\n",
       "       [ 0.1505462 ],\n",
       "       [-0.79143926],\n",
       "       [-0.34050273],\n",
       "       [-0.73386268],\n",
       "       [ 1.29489836],\n",
       "       [-0.40131279],\n",
       "       [-0.29477172],\n",
       "       [-0.84226248],\n",
       "       [ 0.39062954],\n",
       "       [-0.85204714],\n",
       "       [ 0.09530455],\n",
       "       [ 0.13370808],\n",
       "       [ 0.94469387],\n",
       "       [ 0.40776593],\n",
       "       [-0.5645958 ],\n",
       "       [-0.82140483],\n",
       "       [ 2.41945857],\n",
       "       [ 0.12658535],\n",
       "       [ 0.86865711],\n",
       "       [ 0.74766004],\n",
       "       [ 0.37452317],\n",
       "       [-0.28600774],\n",
       "       [-0.58934251],\n",
       "       [ 0.39793234],\n",
       "       [-0.17112192],\n",
       "       [-1.00168218],\n",
       "       [-0.3567495 ],\n",
       "       [-0.37801068],\n",
       "       [-0.02215107],\n",
       "       [ 0.52827157],\n",
       "       [-0.43899633],\n",
       "       [-0.22065499],\n",
       "       [-0.3047846 ],\n",
       "       [-1.03951326],\n",
       "       [-0.87698557],\n",
       "       [-0.52454484],\n",
       "       [-1.02312322],\n",
       "       [-0.73092756],\n",
       "       [-0.72820063],\n",
       "       [-0.81076229],\n",
       "       [ 0.37341217],\n",
       "       [-0.80213601],\n",
       "       [ 0.74273803],\n",
       "       [ 0.84820914],\n",
       "       [ 0.4115318 ],\n",
       "       [ 0.83871873],\n",
       "       [ 0.11471374],\n",
       "       [-0.83243707],\n",
       "       [ 0.41024709],\n",
       "       [-1.02599503],\n",
       "       [ 2.91794062],\n",
       "       [-0.82112389],\n",
       "       [-0.21097998],\n",
       "       [-0.83561324],\n",
       "       [ 0.19667694],\n",
       "       [ 0.42113514],\n",
       "       [ 0.77193371],\n",
       "       [-0.3030166 ],\n",
       "       [ 2.59673991],\n",
       "       [-0.77477608],\n",
       "       [-0.24684701],\n",
       "       [ 3.09658077],\n",
       "       [ 2.87818038],\n",
       "       [ 0.66259198],\n",
       "       [-0.52783597],\n",
       "       [-0.08758087],\n",
       "       [-0.51451356],\n",
       "       [-0.10412543],\n",
       "       [ 3.12010923],\n",
       "       [-0.65592296],\n",
       "       [ 1.15934056],\n",
       "       [ 0.58054536],\n",
       "       [-0.90269634],\n",
       "       [ 0.33323771],\n",
       "       [-0.84649577],\n",
       "       [-0.78570589],\n",
       "       [ 0.81880847],\n",
       "       [ 0.07225113],\n",
       "       [-0.54225237],\n",
       "       [-0.77403375],\n",
       "       [-0.54942181],\n",
       "       [-0.75836629],\n",
       "       [ 0.13997856],\n",
       "       [-0.5115519 ],\n",
       "       [-0.50596777],\n",
       "       [-0.8197635 ],\n",
       "       [-0.46799971],\n",
       "       [-0.47336563],\n",
       "       [-0.66384521],\n",
       "       [ 0.45460778],\n",
       "       [-0.34091317],\n",
       "       [-0.81170482],\n",
       "       [ 0.21474673],\n",
       "       [ 0.78537752],\n",
       "       [-0.44587162],\n",
       "       [-0.88542318],\n",
       "       [-0.86434567],\n",
       "       [-0.8793759 ],\n",
       "       [ 0.46306726],\n",
       "       [ 0.48489781],\n",
       "       [-0.74217087],\n",
       "       [ 3.56756888],\n",
       "       [ 0.71207055],\n",
       "       [ 0.97301685],\n",
       "       [-0.41039334],\n",
       "       [ 0.55802217],\n",
       "       [-0.35384286],\n",
       "       [-0.73181155],\n",
       "       [ 1.70126429],\n",
       "       [-0.90313231],\n",
       "       [ 0.11191186],\n",
       "       [-1.02956621],\n",
       "       [-0.21888699]])"
      ]
     },
     "execution_count": 7,
     "metadata": {},
     "output_type": "execute_result"
    }
   ],
   "source": [
    "# Predicting the train set results\n",
    "y_pred = regressor.predict(X_train)\n",
    "y_pred"
   ]
  },
  {
   "cell_type": "code",
   "execution_count": 8,
   "id": "e18a590e",
   "metadata": {},
   "outputs": [],
   "source": [
    "from sklearn.metrics import r2_score\n"
   ]
  },
  {
   "cell_type": "code",
   "execution_count": 9,
   "id": "26513dd0",
   "metadata": {},
   "outputs": [
    {
     "data": {
      "text/plain": [
       "0.9464804878732744"
      ]
     },
     "execution_count": 9,
     "metadata": {},
     "output_type": "execute_result"
    }
   ],
   "source": [
    "r2_score(y_train, y_pred)\n"
   ]
  },
  {
   "cell_type": "markdown",
   "id": "ce056d43",
   "metadata": {},
   "source": [
    "#### Mean absolute error "
   ]
  },
  {
   "cell_type": "code",
   "execution_count": 10,
   "id": "12894061",
   "metadata": {},
   "outputs": [
    {
     "data": {
      "text/plain": [
       "0.1705518721001237"
      ]
     },
     "execution_count": 10,
     "metadata": {},
     "output_type": "execute_result"
    }
   ],
   "source": [
    "from sklearn.metrics import mean_absolute_error\n",
    "mean_absolute_error(y_train, y_pred)"
   ]
  },
  {
   "cell_type": "markdown",
   "id": "c0361e49",
   "metadata": {},
   "source": [
    "#### Mean Square Error (MSE)"
   ]
  },
  {
   "cell_type": "code",
   "execution_count": 11,
   "id": "8ebb64be",
   "metadata": {},
   "outputs": [
    {
     "data": {
      "text/plain": [
       "0.053519512126725545"
      ]
     },
     "execution_count": 11,
     "metadata": {},
     "output_type": "execute_result"
    }
   ],
   "source": [
    "from sklearn.metrics import mean_squared_error\n",
    "mean_squared_error(y_train, y_pred)"
   ]
  },
  {
   "cell_type": "markdown",
   "id": "e631accd",
   "metadata": {},
   "source": [
    "#### Mean absolute percentage error"
   ]
  },
  {
   "cell_type": "code",
   "execution_count": 12,
   "id": "bf14b635",
   "metadata": {},
   "outputs": [
    {
     "data": {
      "text/plain": [
       "0.9698075717613237"
      ]
     },
     "execution_count": 12,
     "metadata": {},
     "output_type": "execute_result"
    }
   ],
   "source": [
    "from sklearn.metrics import mean_absolute_percentage_error\n",
    "mean_absolute_percentage_error(y_train, y_pred)"
   ]
  },
  {
   "cell_type": "markdown",
   "id": "4487bccf",
   "metadata": {},
   "source": [
    "#### Root mean square error"
   ]
  },
  {
   "cell_type": "code",
   "execution_count": 13,
   "id": "63d15641",
   "metadata": {},
   "outputs": [
    {
     "name": "stdout",
     "output_type": "stream",
     "text": [
      "0.23134284541935923\n"
     ]
    }
   ],
   "source": [
    "from sklearn.metrics import mean_squared_error\n",
    "from math import sqrt\n",
    "rmse = sqrt(mean_squared_error(y_train, y_pred))\n",
    "print(rmse)"
   ]
  },
  {
   "cell_type": "markdown",
   "id": "37580798",
   "metadata": {},
   "source": [
    "## predicting the test set result"
   ]
  },
  {
   "cell_type": "code",
   "execution_count": 14,
   "id": "ec83b7d5",
   "metadata": {},
   "outputs": [
    {
     "data": {
      "text/plain": [
       "array([[-0.45111462],\n",
       "       [ 0.66762528],\n",
       "       [-0.61078878],\n",
       "       [ 1.34235942],\n",
       "       [ 0.43402938],\n",
       "       [ 2.39121425],\n",
       "       [-0.53663547],\n",
       "       [-0.73445827],\n",
       "       [-0.90801283],\n",
       "       [-0.7259387 ],\n",
       "       [-0.47886827],\n",
       "       [ 0.47025331],\n",
       "       [-0.22837867],\n",
       "       [-0.28337262],\n",
       "       [ 0.11707357],\n",
       "       [-0.82740642],\n",
       "       [-0.72415818]])"
      ]
     },
     "execution_count": 14,
     "metadata": {},
     "output_type": "execute_result"
    }
   ],
   "source": [
    "y_pred_test = regressor.predict(X_test)\n",
    "y_pred_test"
   ]
  },
  {
   "cell_type": "code",
   "execution_count": 15,
   "id": "d40dc951",
   "metadata": {},
   "outputs": [
    {
     "data": {
      "text/plain": [
       "12211.358033977578"
      ]
     },
     "execution_count": 15,
     "metadata": {},
     "output_type": "execute_result"
    }
   ],
   "source": [
    "# Mean absolute error for test set\n",
    "mean_absolute_error(y_test, y_pred_test)"
   ]
  },
  {
   "cell_type": "code",
   "execution_count": 16,
   "id": "53ba0ccb",
   "metadata": {},
   "outputs": [
    {
     "data": {
      "text/plain": [
       "191415346.79897454"
      ]
     },
     "execution_count": 16,
     "metadata": {},
     "output_type": "execute_result"
    }
   ],
   "source": [
    "# Mean Square Error (MSE) for test set\n",
    "mean_squared_error(y_test, y_pred_test)"
   ]
  },
  {
   "cell_type": "code",
   "execution_count": 17,
   "id": "f6e55161",
   "metadata": {},
   "outputs": [
    {
     "data": {
      "text/plain": [
       "1.0000370192931147"
      ]
     },
     "execution_count": 17,
     "metadata": {},
     "output_type": "execute_result"
    }
   ],
   "source": [
    "# Mean absolute percentage error for test set\n",
    "mean_absolute_percentage_error(y_test, y_pred_test)"
   ]
  },
  {
   "cell_type": "code",
   "execution_count": 18,
   "id": "3ba8d07c",
   "metadata": {},
   "outputs": [
    {
     "name": "stdout",
     "output_type": "stream",
     "text": [
      "13835.29352052115\n"
     ]
    }
   ],
   "source": [
    "# Root mean square error for test set\n",
    "rmse_test = sqrt(mean_squared_error(y_test, y_pred_test))\n",
    "print(rmse_test)"
   ]
  },
  {
   "cell_type": "code",
   "execution_count": null,
   "id": "bbf271e8",
   "metadata": {},
   "outputs": [],
   "source": []
  }
 ],
 "metadata": {
  "kernelspec": {
   "display_name": "Python 3 (ipykernel)",
   "language": "python",
   "name": "python3"
  },
  "language_info": {
   "codemirror_mode": {
    "name": "ipython",
    "version": 3
   },
   "file_extension": ".py",
   "mimetype": "text/x-python",
   "name": "python",
   "nbconvert_exporter": "python",
   "pygments_lexer": "ipython3",
   "version": "3.9.7"
  }
 },
 "nbformat": 4,
 "nbformat_minor": 5
}
