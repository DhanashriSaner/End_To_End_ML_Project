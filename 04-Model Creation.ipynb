{
 "cells": [
  {
   "cell_type": "code",
   "execution_count": 1,
   "id": "3cec3af5",
   "metadata": {},
   "outputs": [],
   "source": [
    "import warnings\n",
    "import numpy as np\n",
    "import pandas as pd\n",
    "import seaborn as sns\n",
    "warnings.filterwarnings(\"ignore\")\n",
    "from matplotlib import pyplot as plt"
   ]
  },
  {
   "cell_type": "code",
   "execution_count": 2,
   "id": "925e3012",
   "metadata": {},
   "outputs": [],
   "source": [
    "X=pd.read_csv('x_data.csv')"
   ]
  },
  {
   "cell_type": "code",
   "execution_count": 3,
   "id": "70d71ee1",
   "metadata": {},
   "outputs": [],
   "source": [
    "y=pd.read_csv('y_data.csv')"
   ]
  },
  {
   "cell_type": "code",
   "execution_count": 4,
   "id": "695640fc",
   "metadata": {},
   "outputs": [],
   "source": [
    "# Splitting the dataset into the Training set and Test set\n",
    "from sklearn.model_selection import train_test_split\n",
    "X_train, X_test, y_train, y_test = train_test_split(X, y, test_size = 1/3, random_state = 0)"
   ]
  },
  {
   "cell_type": "code",
   "execution_count": 5,
   "id": "8c3e7941",
   "metadata": {},
   "outputs": [],
   "source": [
    "# Feature Scaling\n",
    "from sklearn.preprocessing import StandardScaler\n",
    "sc_X = StandardScaler()\n",
    "X_train = sc_X.fit_transform(X_train)\n",
    "X_test = sc_X.transform(X_test)\n",
    "sc_y = StandardScaler()\n",
    "y_train = sc_y.fit_transform(y_train)"
   ]
  },
  {
   "cell_type": "code",
   "execution_count": 6,
   "id": "5a511fe8",
   "metadata": {},
   "outputs": [
    {
     "data": {
      "text/plain": [
       "LinearRegression()"
      ]
     },
     "execution_count": 6,
     "metadata": {},
     "output_type": "execute_result"
    }
   ],
   "source": [
    "# Fitting Simple Linear Regression to the Training set\n",
    "from sklearn.linear_model import LinearRegression\n",
    "regressor = LinearRegression()\n",
    "regressor.fit(X_train, y_train)"
   ]
  },
  {
   "cell_type": "code",
   "execution_count": 7,
   "id": "66665351",
   "metadata": {},
   "outputs": [
    {
     "data": {
      "text/plain": [
       "array([[ 1.35524042e+00],\n",
       "       [-3.89763769e-01],\n",
       "       [-4.00893031e-01],\n",
       "       [-8.44906297e-01],\n",
       "       [ 2.41107819e-01],\n",
       "       [-8.66302495e-01],\n",
       "       [-1.67048489e-02],\n",
       "       [ 3.29764105e-01],\n",
       "       [ 9.59112485e-01],\n",
       "       [ 1.52193878e-01],\n",
       "       [-5.14383066e-01],\n",
       "       [-8.72291180e-01],\n",
       "       [ 2.44274266e+00],\n",
       "       [-9.32121359e-02],\n",
       "       [ 8.58404996e-01],\n",
       "       [ 5.10522061e-01],\n",
       "       [ 2.79261424e-01],\n",
       "       [-3.11142980e-01],\n",
       "       [-6.27312730e-01],\n",
       "       [ 4.43914824e-01],\n",
       "       [-2.22468501e-01],\n",
       "       [-9.39382854e-01],\n",
       "       [-1.63286555e-01],\n",
       "       [-4.56307891e-01],\n",
       "       [-1.05147444e-01],\n",
       "       [ 4.31309240e-01],\n",
       "       [-5.27146115e-01],\n",
       "       [-3.82892802e-01],\n",
       "       [-4.40759002e-01],\n",
       "       [-1.05971925e+00],\n",
       "       [-1.00810900e+00],\n",
       "       [-4.77309053e-01],\n",
       "       [-1.01061255e+00],\n",
       "       [-7.36871662e-01],\n",
       "       [-7.11779996e-01],\n",
       "       [-7.95681398e-01],\n",
       "       [ 2.23813921e-01],\n",
       "       [-8.39234934e-01],\n",
       "       [ 6.57398838e-01],\n",
       "       [ 7.30206106e-01],\n",
       "       [ 3.42179343e-01],\n",
       "       [ 7.23604315e-01],\n",
       "       [ 2.34964059e-01],\n",
       "       [-8.33059914e-01],\n",
       "       [ 1.50034124e-01],\n",
       "       [-1.07029624e+00],\n",
       "       [ 2.76765476e+00],\n",
       "       [-8.44044187e-01],\n",
       "       [-2.41784030e-01],\n",
       "       [-7.75039323e-01],\n",
       "       [ 2.34194419e-01],\n",
       "       [ 3.09850044e-01],\n",
       "       [ 6.84322427e-01],\n",
       "       [-4.39518218e-01],\n",
       "       [ 2.63836193e+00],\n",
       "       [-8.06304212e-01],\n",
       "       [-2.17638799e-01],\n",
       "       [ 2.89984488e+00],\n",
       "       [ 3.14110309e+00],\n",
       "       [ 5.24970703e-01],\n",
       "       [-5.89178478e-01],\n",
       "       [-1.13610524e-01],\n",
       "       [-5.70473261e-01],\n",
       "       [ 1.10094807e-03],\n",
       "       [ 2.97423992e+00],\n",
       "       [-5.96719990e-01],\n",
       "       [ 1.24498270e+00],\n",
       "       [ 5.27129965e-01],\n",
       "       [-9.25807975e-01],\n",
       "       [ 3.02521935e-01],\n",
       "       [-8.77582115e-01],\n",
       "       [-7.06615458e-01],\n",
       "       [ 7.72227052e-01],\n",
       "       [ 1.97695715e-01],\n",
       "       [-5.84376528e-01],\n",
       "       [-8.01107985e-01],\n",
       "       [-4.63890672e-01],\n",
       "       [-7.73347372e-01],\n",
       "       [ 5.69665057e-02],\n",
       "       [-5.86000450e-01],\n",
       "       [-5.45177100e-01],\n",
       "       [-9.58436656e-01],\n",
       "       [-4.47306350e-01],\n",
       "       [-5.23599519e-01],\n",
       "       [-7.55540190e-01],\n",
       "       [ 3.70286395e-01],\n",
       "       [-3.68296458e-01],\n",
       "       [-7.80052536e-01],\n",
       "       [ 2.11503784e-01],\n",
       "       [ 8.73235170e-01],\n",
       "       [-5.92326752e-01],\n",
       "       [-8.82430734e-01],\n",
       "       [-8.81348331e-01],\n",
       "       [-8.69454242e-01],\n",
       "       [ 3.95317788e-01],\n",
       "       [ 4.35030058e-01],\n",
       "       [-7.04287297e-01],\n",
       "       [ 3.45975906e+00],\n",
       "       [ 6.02001778e-01],\n",
       "       [ 8.48706579e-01],\n",
       "       [-4.80203245e-01],\n",
       "       [ 3.69871403e-01],\n",
       "       [-3.29374068e-01],\n",
       "       [-7.37492054e-01],\n",
       "       [ 1.64197525e+00],\n",
       "       [-9.05902357e-01],\n",
       "       [ 2.29639043e-01],\n",
       "       [-1.00737075e+00],\n",
       "       [-3.81652018e-01]])"
      ]
     },
     "execution_count": 7,
     "metadata": {},
     "output_type": "execute_result"
    }
   ],
   "source": [
    "# Predicting the train set results\n",
    "y_pred = regressor.predict(X_train)\n",
    "y_pred"
   ]
  },
  {
   "cell_type": "code",
   "execution_count": 8,
   "id": "e18a590e",
   "metadata": {},
   "outputs": [],
   "source": [
    "from sklearn.metrics import r2_score\n"
   ]
  },
  {
   "cell_type": "code",
   "execution_count": 9,
   "id": "26513dd0",
   "metadata": {},
   "outputs": [
    {
     "data": {
      "text/plain": [
       "0.9526666875327664"
      ]
     },
     "execution_count": 9,
     "metadata": {},
     "output_type": "execute_result"
    }
   ],
   "source": [
    "r2_score(y_train, y_pred)"
   ]
  },
  {
   "cell_type": "code",
   "execution_count": null,
   "id": "53159dea",
   "metadata": {},
   "outputs": [],
   "source": []
  }
 ],
 "metadata": {
  "kernelspec": {
   "display_name": "Python 3 (ipykernel)",
   "language": "python",
   "name": "python3"
  },
  "language_info": {
   "codemirror_mode": {
    "name": "ipython",
    "version": 3
   },
   "file_extension": ".py",
   "mimetype": "text/x-python",
   "name": "python",
   "nbconvert_exporter": "python",
   "pygments_lexer": "ipython3",
   "version": "3.9.7"
  }
 },
 "nbformat": 4,
 "nbformat_minor": 5
}
