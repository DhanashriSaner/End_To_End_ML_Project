{
 "cells": [
  {
   "cell_type": "markdown",
   "id": "0798a389",
   "metadata": {},
   "source": [
    "### Import Dependencies"
   ]
  },
  {
   "cell_type": "code",
   "execution_count": 1,
   "id": "7808b4ca",
   "metadata": {},
   "outputs": [],
   "source": [
    "import warnings\n",
    "import numpy as np\n",
    "import pandas as pd\n",
    "import seaborn as sns\n",
    "warnings.filterwarnings(\"ignore\")\n",
    "from matplotlib import pyplot as plt"
   ]
  },
  {
   "cell_type": "markdown",
   "id": "1790f122",
   "metadata": {},
   "source": [
    "### Data Loading "
   ]
  },
  {
   "cell_type": "code",
   "execution_count": 2,
   "id": "7234b43e",
   "metadata": {},
   "outputs": [
    {
     "data": {
      "text/html": [
       "<div>\n",
       "<style scoped>\n",
       "    .dataframe tbody tr th:only-of-type {\n",
       "        vertical-align: middle;\n",
       "    }\n",
       "\n",
       "    .dataframe tbody tr th {\n",
       "        vertical-align: top;\n",
       "    }\n",
       "\n",
       "    .dataframe thead th {\n",
       "        text-align: right;\n",
       "    }\n",
       "</style>\n",
       "<table border=\"1\" class=\"dataframe\">\n",
       "  <thead>\n",
       "    <tr style=\"text-align: right;\">\n",
       "      <th></th>\n",
       "      <th>car_ID</th>\n",
       "      <th>symboling</th>\n",
       "      <th>CarName</th>\n",
       "      <th>fueltype</th>\n",
       "      <th>aspiration</th>\n",
       "      <th>doornumber</th>\n",
       "      <th>carbody</th>\n",
       "      <th>drivewheel</th>\n",
       "      <th>enginelocation</th>\n",
       "      <th>wheelbase</th>\n",
       "      <th>...</th>\n",
       "      <th>enginesize</th>\n",
       "      <th>fuelsystem</th>\n",
       "      <th>boreratio</th>\n",
       "      <th>stroke</th>\n",
       "      <th>compressionratio</th>\n",
       "      <th>horsepower</th>\n",
       "      <th>peakrpm</th>\n",
       "      <th>citympg</th>\n",
       "      <th>highwaympg</th>\n",
       "      <th>price</th>\n",
       "    </tr>\n",
       "  </thead>\n",
       "  <tbody>\n",
       "    <tr>\n",
       "      <th>0</th>\n",
       "      <td>1</td>\n",
       "      <td>3</td>\n",
       "      <td>alfa-romero giulia</td>\n",
       "      <td>gas</td>\n",
       "      <td>std</td>\n",
       "      <td>two</td>\n",
       "      <td>convertible</td>\n",
       "      <td>rwd</td>\n",
       "      <td>front</td>\n",
       "      <td>88.6</td>\n",
       "      <td>...</td>\n",
       "      <td>130.0</td>\n",
       "      <td>mpfi</td>\n",
       "      <td>3.47</td>\n",
       "      <td>2.68</td>\n",
       "      <td>9.0</td>\n",
       "      <td>111</td>\n",
       "      <td>5000</td>\n",
       "      <td>21</td>\n",
       "      <td>27</td>\n",
       "      <td>13495.0</td>\n",
       "    </tr>\n",
       "    <tr>\n",
       "      <th>1</th>\n",
       "      <td>2</td>\n",
       "      <td>3</td>\n",
       "      <td>alfa-romero stelvio</td>\n",
       "      <td>gas</td>\n",
       "      <td>std</td>\n",
       "      <td>two</td>\n",
       "      <td>convertible</td>\n",
       "      <td>rwd</td>\n",
       "      <td>front</td>\n",
       "      <td>88.6</td>\n",
       "      <td>...</td>\n",
       "      <td>130.0</td>\n",
       "      <td>mpfi</td>\n",
       "      <td>3.47</td>\n",
       "      <td>2.68</td>\n",
       "      <td>9.0</td>\n",
       "      <td>111</td>\n",
       "      <td>5000</td>\n",
       "      <td>21</td>\n",
       "      <td>27</td>\n",
       "      <td>16500.0</td>\n",
       "    </tr>\n",
       "    <tr>\n",
       "      <th>2</th>\n",
       "      <td>3</td>\n",
       "      <td>1</td>\n",
       "      <td>alfa-romero Quadrifoglio</td>\n",
       "      <td>gas</td>\n",
       "      <td>std</td>\n",
       "      <td>two</td>\n",
       "      <td>hatchback</td>\n",
       "      <td>rwd</td>\n",
       "      <td>front</td>\n",
       "      <td>94.5</td>\n",
       "      <td>...</td>\n",
       "      <td>152.0</td>\n",
       "      <td>mpfi</td>\n",
       "      <td>2.68</td>\n",
       "      <td>3.47</td>\n",
       "      <td>9.0</td>\n",
       "      <td>154</td>\n",
       "      <td>5000</td>\n",
       "      <td>19</td>\n",
       "      <td>26</td>\n",
       "      <td>16500.0</td>\n",
       "    </tr>\n",
       "    <tr>\n",
       "      <th>3</th>\n",
       "      <td>4</td>\n",
       "      <td>2</td>\n",
       "      <td>audi 100 ls</td>\n",
       "      <td>gas</td>\n",
       "      <td>std</td>\n",
       "      <td>four</td>\n",
       "      <td>sedan</td>\n",
       "      <td>fwd</td>\n",
       "      <td>front</td>\n",
       "      <td>99.8</td>\n",
       "      <td>...</td>\n",
       "      <td>109.0</td>\n",
       "      <td>mpfi</td>\n",
       "      <td>3.19</td>\n",
       "      <td>3.40</td>\n",
       "      <td>10.0</td>\n",
       "      <td>102</td>\n",
       "      <td>5500</td>\n",
       "      <td>24</td>\n",
       "      <td>30</td>\n",
       "      <td>13950.0</td>\n",
       "    </tr>\n",
       "    <tr>\n",
       "      <th>4</th>\n",
       "      <td>5</td>\n",
       "      <td>2</td>\n",
       "      <td>audi 100ls</td>\n",
       "      <td>gas</td>\n",
       "      <td>std</td>\n",
       "      <td>four</td>\n",
       "      <td>sedan</td>\n",
       "      <td>4wd</td>\n",
       "      <td>front</td>\n",
       "      <td>99.4</td>\n",
       "      <td>...</td>\n",
       "      <td>136.0</td>\n",
       "      <td>mpfi</td>\n",
       "      <td>3.19</td>\n",
       "      <td>3.40</td>\n",
       "      <td>8.0</td>\n",
       "      <td>115</td>\n",
       "      <td>5500</td>\n",
       "      <td>18</td>\n",
       "      <td>22</td>\n",
       "      <td>17450.0</td>\n",
       "    </tr>\n",
       "  </tbody>\n",
       "</table>\n",
       "<p>5 rows × 26 columns</p>\n",
       "</div>"
      ],
      "text/plain": [
       "   car_ID  symboling                   CarName fueltype aspiration doornumber  \\\n",
       "0       1          3        alfa-romero giulia      gas        std        two   \n",
       "1       2          3       alfa-romero stelvio      gas        std        two   \n",
       "2       3          1  alfa-romero Quadrifoglio      gas        std        two   \n",
       "3       4          2               audi 100 ls      gas        std       four   \n",
       "4       5          2                audi 100ls      gas        std       four   \n",
       "\n",
       "       carbody drivewheel enginelocation  wheelbase  ...  enginesize  \\\n",
       "0  convertible        rwd          front       88.6  ...       130.0   \n",
       "1  convertible        rwd          front       88.6  ...       130.0   \n",
       "2    hatchback        rwd          front       94.5  ...       152.0   \n",
       "3        sedan        fwd          front       99.8  ...       109.0   \n",
       "4        sedan        4wd          front       99.4  ...       136.0   \n",
       "\n",
       "   fuelsystem  boreratio  stroke compressionratio horsepower  peakrpm citympg  \\\n",
       "0        mpfi       3.47    2.68              9.0        111     5000      21   \n",
       "1        mpfi       3.47    2.68              9.0        111     5000      21   \n",
       "2        mpfi       2.68    3.47              9.0        154     5000      19   \n",
       "3        mpfi       3.19    3.40             10.0        102     5500      24   \n",
       "4        mpfi       3.19    3.40              8.0        115     5500      18   \n",
       "\n",
       "   highwaympg    price  \n",
       "0          27  13495.0  \n",
       "1          27  16500.0  \n",
       "2          26  16500.0  \n",
       "3          30  13950.0  \n",
       "4          22  17450.0  \n",
       "\n",
       "[5 rows x 26 columns]"
      ]
     },
     "execution_count": 2,
     "metadata": {},
     "output_type": "execute_result"
    }
   ],
   "source": [
    "df =pd.read_csv(\"CarPrice_Assignment.csv\")\n",
    "df.head()"
   ]
  },
  {
   "cell_type": "code",
   "execution_count": 3,
   "id": "a1addde7",
   "metadata": {},
   "outputs": [
    {
     "data": {
      "text/plain": [
       "(205, 26)"
      ]
     },
     "execution_count": 3,
     "metadata": {},
     "output_type": "execute_result"
    }
   ],
   "source": [
    "# shape of dataframe\n",
    "df.shape"
   ]
  },
  {
   "cell_type": "code",
   "execution_count": 4,
   "id": "6c130765",
   "metadata": {},
   "outputs": [
    {
     "name": "stdout",
     "output_type": "stream",
     "text": [
      "<class 'pandas.core.frame.DataFrame'>\n",
      "RangeIndex: 205 entries, 0 to 204\n",
      "Data columns (total 26 columns):\n",
      " #   Column            Non-Null Count  Dtype  \n",
      "---  ------            --------------  -----  \n",
      " 0   car_ID            205 non-null    int64  \n",
      " 1   symboling         205 non-null    int64  \n",
      " 2   CarName           205 non-null    object \n",
      " 3   fueltype          189 non-null    object \n",
      " 4   aspiration        205 non-null    object \n",
      " 5   doornumber        205 non-null    object \n",
      " 6   carbody           205 non-null    object \n",
      " 7   drivewheel        205 non-null    object \n",
      " 8   enginelocation    205 non-null    object \n",
      " 9   wheelbase         205 non-null    float64\n",
      " 10  carlength         205 non-null    float64\n",
      " 11  carwidth          205 non-null    float64\n",
      " 12  carheight         205 non-null    float64\n",
      " 13  curbweight        205 non-null    int64  \n",
      " 14  enginetype        205 non-null    object \n",
      " 15  cylindernumber    205 non-null    object \n",
      " 16  enginesize        204 non-null    float64\n",
      " 17  fuelsystem        191 non-null    object \n",
      " 18  boreratio         205 non-null    float64\n",
      " 19  stroke            205 non-null    float64\n",
      " 20  compressionratio  205 non-null    float64\n",
      " 21  horsepower        205 non-null    int64  \n",
      " 22  peakrpm           205 non-null    int64  \n",
      " 23  citympg           205 non-null    int64  \n",
      " 24  highwaympg        205 non-null    int64  \n",
      " 25  price             202 non-null    float64\n",
      "dtypes: float64(9), int64(7), object(10)\n",
      "memory usage: 41.8+ KB\n"
     ]
    },
    {
     "data": {
      "text/plain": [
       "'\\nThe null values present in fueltype,enginesize,fuelsystem and price.\\nData types are correcly assigned.\\n'"
      ]
     },
     "execution_count": 4,
     "metadata": {},
     "output_type": "execute_result"
    }
   ],
   "source": [
    "# dtypes and null value count of column \n",
    "df.info()\n",
    "'''\n",
    "The null values present in fueltype,enginesize,fuelsystem and price.\n",
    "Data types are correcly assigned.\n",
    "'''"
   ]
  },
  {
   "cell_type": "code",
   "execution_count": 5,
   "id": "df76d545",
   "metadata": {},
   "outputs": [
    {
     "data": {
      "text/html": [
       "<div>\n",
       "<style scoped>\n",
       "    .dataframe tbody tr th:only-of-type {\n",
       "        vertical-align: middle;\n",
       "    }\n",
       "\n",
       "    .dataframe tbody tr th {\n",
       "        vertical-align: top;\n",
       "    }\n",
       "\n",
       "    .dataframe thead th {\n",
       "        text-align: right;\n",
       "    }\n",
       "</style>\n",
       "<table border=\"1\" class=\"dataframe\">\n",
       "  <thead>\n",
       "    <tr style=\"text-align: right;\">\n",
       "      <th></th>\n",
       "      <th>car_ID</th>\n",
       "      <th>symboling</th>\n",
       "      <th>wheelbase</th>\n",
       "      <th>carlength</th>\n",
       "      <th>carwidth</th>\n",
       "      <th>carheight</th>\n",
       "      <th>curbweight</th>\n",
       "      <th>enginesize</th>\n",
       "      <th>boreratio</th>\n",
       "      <th>stroke</th>\n",
       "      <th>compressionratio</th>\n",
       "      <th>horsepower</th>\n",
       "      <th>peakrpm</th>\n",
       "      <th>citympg</th>\n",
       "      <th>highwaympg</th>\n",
       "      <th>price</th>\n",
       "    </tr>\n",
       "  </thead>\n",
       "  <tbody>\n",
       "    <tr>\n",
       "      <th>count</th>\n",
       "      <td>205.000000</td>\n",
       "      <td>205.000000</td>\n",
       "      <td>205.000000</td>\n",
       "      <td>205.000000</td>\n",
       "      <td>205.000000</td>\n",
       "      <td>205.000000</td>\n",
       "      <td>205.000000</td>\n",
       "      <td>204.000000</td>\n",
       "      <td>205.000000</td>\n",
       "      <td>205.000000</td>\n",
       "      <td>205.000000</td>\n",
       "      <td>205.000000</td>\n",
       "      <td>205.000000</td>\n",
       "      <td>205.000000</td>\n",
       "      <td>205.000000</td>\n",
       "      <td>202.000000</td>\n",
       "    </tr>\n",
       "    <tr>\n",
       "      <th>mean</th>\n",
       "      <td>103.000000</td>\n",
       "      <td>0.834146</td>\n",
       "      <td>98.756585</td>\n",
       "      <td>174.049268</td>\n",
       "      <td>65.907805</td>\n",
       "      <td>53.724878</td>\n",
       "      <td>2555.565854</td>\n",
       "      <td>126.862745</td>\n",
       "      <td>3.329756</td>\n",
       "      <td>3.255415</td>\n",
       "      <td>10.142537</td>\n",
       "      <td>104.117073</td>\n",
       "      <td>5125.121951</td>\n",
       "      <td>25.219512</td>\n",
       "      <td>30.751220</td>\n",
       "      <td>13306.760728</td>\n",
       "    </tr>\n",
       "    <tr>\n",
       "      <th>std</th>\n",
       "      <td>59.322565</td>\n",
       "      <td>1.245307</td>\n",
       "      <td>6.021776</td>\n",
       "      <td>12.337289</td>\n",
       "      <td>2.145204</td>\n",
       "      <td>2.443522</td>\n",
       "      <td>520.680204</td>\n",
       "      <td>41.740233</td>\n",
       "      <td>0.270844</td>\n",
       "      <td>0.313597</td>\n",
       "      <td>3.972040</td>\n",
       "      <td>39.544167</td>\n",
       "      <td>476.985643</td>\n",
       "      <td>6.542142</td>\n",
       "      <td>6.886443</td>\n",
       "      <td>7985.699087</td>\n",
       "    </tr>\n",
       "    <tr>\n",
       "      <th>min</th>\n",
       "      <td>1.000000</td>\n",
       "      <td>-2.000000</td>\n",
       "      <td>86.600000</td>\n",
       "      <td>141.100000</td>\n",
       "      <td>60.300000</td>\n",
       "      <td>47.800000</td>\n",
       "      <td>1488.000000</td>\n",
       "      <td>61.000000</td>\n",
       "      <td>2.540000</td>\n",
       "      <td>2.070000</td>\n",
       "      <td>7.000000</td>\n",
       "      <td>48.000000</td>\n",
       "      <td>4150.000000</td>\n",
       "      <td>13.000000</td>\n",
       "      <td>16.000000</td>\n",
       "      <td>5118.000000</td>\n",
       "    </tr>\n",
       "    <tr>\n",
       "      <th>25%</th>\n",
       "      <td>52.000000</td>\n",
       "      <td>0.000000</td>\n",
       "      <td>94.500000</td>\n",
       "      <td>166.300000</td>\n",
       "      <td>64.100000</td>\n",
       "      <td>52.000000</td>\n",
       "      <td>2145.000000</td>\n",
       "      <td>97.000000</td>\n",
       "      <td>3.150000</td>\n",
       "      <td>3.110000</td>\n",
       "      <td>8.600000</td>\n",
       "      <td>70.000000</td>\n",
       "      <td>4800.000000</td>\n",
       "      <td>19.000000</td>\n",
       "      <td>25.000000</td>\n",
       "      <td>7823.000000</td>\n",
       "    </tr>\n",
       "    <tr>\n",
       "      <th>50%</th>\n",
       "      <td>103.000000</td>\n",
       "      <td>1.000000</td>\n",
       "      <td>97.000000</td>\n",
       "      <td>173.200000</td>\n",
       "      <td>65.500000</td>\n",
       "      <td>54.100000</td>\n",
       "      <td>2414.000000</td>\n",
       "      <td>119.500000</td>\n",
       "      <td>3.310000</td>\n",
       "      <td>3.290000</td>\n",
       "      <td>9.000000</td>\n",
       "      <td>95.000000</td>\n",
       "      <td>5200.000000</td>\n",
       "      <td>24.000000</td>\n",
       "      <td>30.000000</td>\n",
       "      <td>10320.000000</td>\n",
       "    </tr>\n",
       "    <tr>\n",
       "      <th>75%</th>\n",
       "      <td>154.000000</td>\n",
       "      <td>2.000000</td>\n",
       "      <td>102.400000</td>\n",
       "      <td>183.100000</td>\n",
       "      <td>66.900000</td>\n",
       "      <td>55.500000</td>\n",
       "      <td>2935.000000</td>\n",
       "      <td>142.000000</td>\n",
       "      <td>3.580000</td>\n",
       "      <td>3.410000</td>\n",
       "      <td>9.400000</td>\n",
       "      <td>116.000000</td>\n",
       "      <td>5500.000000</td>\n",
       "      <td>30.000000</td>\n",
       "      <td>34.000000</td>\n",
       "      <td>16502.250000</td>\n",
       "    </tr>\n",
       "    <tr>\n",
       "      <th>max</th>\n",
       "      <td>205.000000</td>\n",
       "      <td>3.000000</td>\n",
       "      <td>120.900000</td>\n",
       "      <td>208.100000</td>\n",
       "      <td>72.300000</td>\n",
       "      <td>59.800000</td>\n",
       "      <td>4066.000000</td>\n",
       "      <td>326.000000</td>\n",
       "      <td>3.940000</td>\n",
       "      <td>4.170000</td>\n",
       "      <td>23.000000</td>\n",
       "      <td>288.000000</td>\n",
       "      <td>6600.000000</td>\n",
       "      <td>49.000000</td>\n",
       "      <td>54.000000</td>\n",
       "      <td>45400.000000</td>\n",
       "    </tr>\n",
       "  </tbody>\n",
       "</table>\n",
       "</div>"
      ],
      "text/plain": [
       "           car_ID   symboling   wheelbase   carlength    carwidth   carheight  \\\n",
       "count  205.000000  205.000000  205.000000  205.000000  205.000000  205.000000   \n",
       "mean   103.000000    0.834146   98.756585  174.049268   65.907805   53.724878   \n",
       "std     59.322565    1.245307    6.021776   12.337289    2.145204    2.443522   \n",
       "min      1.000000   -2.000000   86.600000  141.100000   60.300000   47.800000   \n",
       "25%     52.000000    0.000000   94.500000  166.300000   64.100000   52.000000   \n",
       "50%    103.000000    1.000000   97.000000  173.200000   65.500000   54.100000   \n",
       "75%    154.000000    2.000000  102.400000  183.100000   66.900000   55.500000   \n",
       "max    205.000000    3.000000  120.900000  208.100000   72.300000   59.800000   \n",
       "\n",
       "        curbweight  enginesize   boreratio      stroke  compressionratio  \\\n",
       "count   205.000000  204.000000  205.000000  205.000000        205.000000   \n",
       "mean   2555.565854  126.862745    3.329756    3.255415         10.142537   \n",
       "std     520.680204   41.740233    0.270844    0.313597          3.972040   \n",
       "min    1488.000000   61.000000    2.540000    2.070000          7.000000   \n",
       "25%    2145.000000   97.000000    3.150000    3.110000          8.600000   \n",
       "50%    2414.000000  119.500000    3.310000    3.290000          9.000000   \n",
       "75%    2935.000000  142.000000    3.580000    3.410000          9.400000   \n",
       "max    4066.000000  326.000000    3.940000    4.170000         23.000000   \n",
       "\n",
       "       horsepower      peakrpm     citympg  highwaympg         price  \n",
       "count  205.000000   205.000000  205.000000  205.000000    202.000000  \n",
       "mean   104.117073  5125.121951   25.219512   30.751220  13306.760728  \n",
       "std     39.544167   476.985643    6.542142    6.886443   7985.699087  \n",
       "min     48.000000  4150.000000   13.000000   16.000000   5118.000000  \n",
       "25%     70.000000  4800.000000   19.000000   25.000000   7823.000000  \n",
       "50%     95.000000  5200.000000   24.000000   30.000000  10320.000000  \n",
       "75%    116.000000  5500.000000   30.000000   34.000000  16502.250000  \n",
       "max    288.000000  6600.000000   49.000000   54.000000  45400.000000  "
      ]
     },
     "execution_count": 5,
     "metadata": {},
     "output_type": "execute_result"
    }
   ],
   "source": [
    "# Five Point Summary\n",
    "'''\n",
    "compressionratio and price are highly skewed feature\n",
    "'''\n",
    "df.describe()"
   ]
  },
  {
   "cell_type": "code",
   "execution_count": 6,
   "id": "a9ec4228",
   "metadata": {},
   "outputs": [
    {
     "data": {
      "text/plain": [
       "car_ID              0.000000\n",
       "symboling           0.211072\n",
       "wheelbase           1.050214\n",
       "carlength           0.155954\n",
       "carwidth            0.904003\n",
       "carheight           0.063123\n",
       "curbweight          0.681398\n",
       "enginesize          1.946838\n",
       "boreratio           0.020156\n",
       "stroke             -0.689705\n",
       "compressionratio    2.610862\n",
       "horsepower          1.405310\n",
       "peakrpm             0.075159\n",
       "citympg             0.663704\n",
       "highwaympg          0.539997\n",
       "price               1.796408\n",
       "dtype: float64"
      ]
     },
     "execution_count": 6,
     "metadata": {},
     "output_type": "execute_result"
    }
   ],
   "source": [
    "df.skew()"
   ]
  },
  {
   "cell_type": "code",
   "execution_count": 7,
   "id": "3bb15bcc",
   "metadata": {},
   "outputs": [
    {
     "data": {
      "image/png": "[encoded data removed]",
      "text/plain": [
       "<Figure size 432x288 with 1 Axes>"
      ]
     },
     "metadata": {
      "needs_background": "light"
     },
     "output_type": "display_data"
    }
   ],
   "source": [
    "# histogram for target variable price\n",
    "plt.hist(df.price,bins=20,rwidth=0.8)\n",
    "plt.xlabel('price')\n",
    "plt.ylabel('Count')\n",
    "plt.show()"
   ]
  },
  {
   "cell_type": "code",
   "execution_count": 8,
   "id": "8a61e7aa",
   "metadata": {
    "scrolled": true
   },
   "outputs": [
    {
     "data": {
      "image/png": "[encoded data removed]",
      "text/plain": [
       "<Figure size 432x288 with 1 Axes>"
      ]
     },
     "metadata": {
      "needs_background": "light"
     },
     "output_type": "display_data"
    }
   ],
   "source": [
    "# histogram for compressionratio\n",
    "plt.hist(df.compressionratio,bins=20,rwidth=0.8)\n",
    "plt.xlabel('compressionratio')\n",
    "plt.ylabel('Count')\n",
    "plt.show()"
   ]
  },
  {
   "cell_type": "markdown",
   "id": "f3727565",
   "metadata": {},
   "source": [
    "### Data Cleaning "
   ]
  },
  {
   "cell_type": "markdown",
   "id": "cf0aa4e5",
   "metadata": {},
   "source": [
    "#### 1. Missing values"
   ]
  },
  {
   "cell_type": "code",
   "execution_count": 9,
   "id": "d5b25e01",
   "metadata": {},
   "outputs": [
    {
     "data": {
      "text/plain": [
       "car_ID               0\n",
       "symboling            0\n",
       "CarName              0\n",
       "fueltype            16\n",
       "aspiration           0\n",
       "doornumber           0\n",
       "carbody              0\n",
       "drivewheel           0\n",
       "enginelocation       0\n",
       "wheelbase            0\n",
       "carlength            0\n",
       "carwidth             0\n",
       "carheight            0\n",
       "curbweight           0\n",
       "enginetype           0\n",
       "cylindernumber       0\n",
       "enginesize           1\n",
       "fuelsystem          14\n",
       "boreratio            0\n",
       "stroke               0\n",
       "compressionratio     0\n",
       "horsepower           0\n",
       "peakrpm              0\n",
       "citympg              0\n",
       "highwaympg           0\n",
       "price                3\n",
       "dtype: int64"
      ]
     },
     "execution_count": 9,
     "metadata": {},
     "output_type": "execute_result"
    }
   ],
   "source": [
    "df.isnull().sum()"
   ]
  },
  {
   "cell_type": "code",
   "execution_count": 10,
   "id": "a6f40540",
   "metadata": {},
   "outputs": [
    {
     "data": {
      "text/plain": [
       "car_ID              0.000000\n",
       "symboling           0.000000\n",
       "CarName             0.000000\n",
       "fueltype            7.804878\n",
       "aspiration          0.000000\n",
       "doornumber          0.000000\n",
       "carbody             0.000000\n",
       "drivewheel          0.000000\n",
       "enginelocation      0.000000\n",
       "wheelbase           0.000000\n",
       "carlength           0.000000\n",
       "carwidth            0.000000\n",
       "carheight           0.000000\n",
       "curbweight          0.000000\n",
       "enginetype          0.000000\n",
       "cylindernumber      0.000000\n",
       "enginesize          0.487805\n",
       "fuelsystem          6.829268\n",
       "boreratio           0.000000\n",
       "stroke              0.000000\n",
       "compressionratio    0.000000\n",
       "horsepower          0.000000\n",
       "peakrpm             0.000000\n",
       "citympg             0.000000\n",
       "highwaympg          0.000000\n",
       "price               1.463415\n",
       "dtype: float64"
      ]
     },
     "execution_count": 10,
     "metadata": {},
     "output_type": "execute_result"
    }
   ],
   "source": [
    "df.isnull().sum()/df.shape[0]*100"
   ]
  },
  {
   "cell_type": "markdown",
   "id": "507e0f5f",
   "metadata": {},
   "source": [
    "##### Missing values Treatment for fueltype"
   ]
  },
  {
   "cell_type": "code",
   "execution_count": 11,
   "id": "40327c3a",
   "metadata": {},
   "outputs": [
    {
     "name": "stdout",
     "output_type": "stream",
     "text": [
      "gas       169\n",
      "diesel     20\n",
      "Name: fueltype, dtype: int64\n",
      "0    gas\n",
      "dtype: object\n"
     ]
    },
    {
     "data": {
      "image/png": "[encoded data removed]",
      "text/plain": [
       "<Figure size 432x288 with 1 Axes>"
      ]
     },
     "metadata": {
      "needs_background": "light"
     },
     "output_type": "display_data"
    }
   ],
   "source": [
    "# fueltype is categorical attribute thus we can replace missing values with mode of fueltype\n",
    "print(df.fueltype.value_counts())\n",
    "sns.countplot(df.fueltype)\n",
    "print(df.fueltype.mode())"
   ]
  },
  {
   "cell_type": "code",
   "execution_count": 12,
   "id": "1f85cef6",
   "metadata": {},
   "outputs": [],
   "source": [
    "df.fueltype.fillna(\"gas\",inplace=True)"
   ]
  },
  {
   "cell_type": "code",
   "execution_count": 13,
   "id": "1dd5e2d6",
   "metadata": {},
   "outputs": [
    {
     "data": {
      "text/plain": [
       "False    205\n",
       "Name: fueltype, dtype: int64"
      ]
     },
     "execution_count": 13,
     "metadata": {},
     "output_type": "execute_result"
    }
   ],
   "source": [
    "df.fueltype.isnull().value_counts()"
   ]
  },
  {
   "cell_type": "markdown",
   "id": "682f27e7",
   "metadata": {},
   "source": [
    "##### Missing values treatment for enginesize"
   ]
  },
  {
   "cell_type": "code",
   "execution_count": 14,
   "id": "648d2f99",
   "metadata": {},
   "outputs": [
    {
     "data": {
      "text/plain": [
       "1"
      ]
     },
     "execution_count": 14,
     "metadata": {},
     "output_type": "execute_result"
    }
   ],
   "source": [
    "#  enginesize attribute consist only single null value thus we can remove it.\n",
    "df.enginesize.isnull().sum()"
   ]
  },
  {
   "cell_type": "code",
   "execution_count": 15,
   "id": "2a6ed12f",
   "metadata": {},
   "outputs": [],
   "source": [
    "df = df[df[\"enginesize\"].notna()]"
   ]
  },
  {
   "cell_type": "code",
   "execution_count": 16,
   "id": "84716458",
   "metadata": {},
   "outputs": [
    {
     "data": {
      "text/plain": [
       "0"
      ]
     },
     "execution_count": 16,
     "metadata": {},
     "output_type": "execute_result"
    }
   ],
   "source": [
    "df.enginesize.isnull().sum()"
   ]
  },
  {
   "cell_type": "markdown",
   "id": "ae5fde75",
   "metadata": {},
   "source": [
    "##### Missing values treatment for fuelsystem"
   ]
  },
  {
   "cell_type": "code",
   "execution_count": 17,
   "id": "ca14dd7c",
   "metadata": {},
   "outputs": [
    {
     "data": {
      "text/plain": [
       "False    190\n",
       "True      14\n",
       "Name: fuelsystem, dtype: int64"
      ]
     },
     "execution_count": 17,
     "metadata": {},
     "output_type": "execute_result"
    }
   ],
   "source": [
    "df.fuelsystem.isnull().value_counts()"
   ]
  },
  {
   "cell_type": "code",
   "execution_count": 18,
   "id": "138421e8",
   "metadata": {},
   "outputs": [
    {
     "name": "stdout",
     "output_type": "stream",
     "text": [
      "mpfi    79\n",
      "2bbl    66\n",
      "idi     20\n",
      "1bbl    11\n",
      "spdi     9\n",
      "4bbl     3\n",
      "mfi      1\n",
      "spfi     1\n",
      "Name: fuelsystem, dtype: int64\n",
      "0    mpfi\n",
      "dtype: object\n"
     ]
    },
    {
     "data": {
      "image/png": "[encoded data removed]",
      "text/plain": [
       "<Figure size 432x288 with 1 Axes>"
      ]
     },
     "metadata": {
      "needs_background": "light"
     },
     "output_type": "display_data"
    }
   ],
   "source": [
    "# fuelsystem is categorical attribute and thus we can replace missing values with mode of fuelsystem\n",
    "print(df.fuelsystem.value_counts())\n",
    "sns.countplot(df.fuelsystem)\n",
    "print(df.fuelsystem.mode())\n"
   ]
  },
  {
   "cell_type": "code",
   "execution_count": 19,
   "id": "13e1ab15",
   "metadata": {},
   "outputs": [],
   "source": [
    "# mode of fuelsystem = \"mpfi\". thus we replace null values of fuelsystem with mpfi\n",
    "df.fuelsystem.fillna(\"mpfi\",inplace=True)"
   ]
  },
  {
   "cell_type": "code",
   "execution_count": 20,
   "id": "8433bb9f",
   "metadata": {},
   "outputs": [
    {
     "data": {
      "text/plain": [
       "0"
      ]
     },
     "execution_count": 20,
     "metadata": {},
     "output_type": "execute_result"
    }
   ],
   "source": [
    "df.fuelsystem.isnull().sum()"
   ]
  },
  {
   "cell_type": "markdown",
   "id": "63dc9278",
   "metadata": {},
   "source": [
    "##### Missing values treatment for target variable 'price'"
   ]
  },
  {
   "cell_type": "code",
   "execution_count": 21,
   "id": "1f662c5e",
   "metadata": {},
   "outputs": [
    {
     "data": {
      "text/plain": [
       "False    201\n",
       "True       3\n",
       "Name: price, dtype: int64"
      ]
     },
     "execution_count": 21,
     "metadata": {},
     "output_type": "execute_result"
    }
   ],
   "source": [
    "df.price.isnull().value_counts()"
   ]
  },
  {
   "cell_type": "code",
   "execution_count": 22,
   "id": "fb90d850",
   "metadata": {},
   "outputs": [],
   "source": [
    "''' we can't tolerate target variable with null value.\n",
    "Hence we remove the null values of target variable'''\n",
    "df = df[df[\"price\"].notna()]"
   ]
  },
  {
   "cell_type": "code",
   "execution_count": 23,
   "id": "f708b158",
   "metadata": {},
   "outputs": [
    {
     "data": {
      "text/plain": [
       "0"
      ]
     },
     "execution_count": 23,
     "metadata": {},
     "output_type": "execute_result"
    }
   ],
   "source": [
    "df.price.isnull().sum()\n"
   ]
  },
  {
   "cell_type": "markdown",
   "id": "14353015",
   "metadata": {},
   "source": [
    "#### 2. Remove duplicate or unnecessary Data"
   ]
  },
  {
   "cell_type": "code",
   "execution_count": 24,
   "id": "26fcaa8c",
   "metadata": {},
   "outputs": [
    {
     "data": {
      "text/plain": [
       "0"
      ]
     },
     "execution_count": 24,
     "metadata": {},
     "output_type": "execute_result"
    }
   ],
   "source": [
    "# No duplicate/redundant data present in dataset\n",
    "df.duplicated().sum()"
   ]
  },
  {
   "cell_type": "code",
   "execution_count": 25,
   "id": "56f68fd2",
   "metadata": {},
   "outputs": [
    {
     "name": "stdout",
     "output_type": "stream",
     "text": [
      "Unique values of CarName\n",
      "\n",
      " ['alfa-romero giulia' 'alfa-romero stelvio' 'alfa-romero Quadrifoglio'\n",
      " 'audi 100 ls' 'audi 100ls' 'audi fox' 'audi 4000' 'audi 5000s (diesel)'\n",
      " 'bmw 320i' 'bmw x1' 'bmw x3' 'bmw z4' 'bmw x4' 'bmw x5'\n",
      " 'chevrolet impala' 'chevrolet monte carlo' 'chevrolet vega 2300'\n",
      " 'dodge rampage' 'dodge challenger se' 'dodge d200' 'dodge monaco (sw)'\n",
      " 'dodge colt hardtop' 'dodge colt (sw)' 'dodge coronet custom'\n",
      " 'dodge dart custom' 'dodge coronet custom (sw)' 'honda civic'\n",
      " 'honda civic cvcc' 'honda accord cvcc' 'honda accord lx'\n",
      " 'honda civic 1500 gl' 'honda accord' 'honda civic 1300' 'honda prelude'\n",
      " 'honda civic (auto)' 'isuzu MU-X' 'isuzu D-Max ' 'isuzu D-Max V-Cross'\n",
      " 'jaguar xj' 'jaguar xf' 'jaguar xk' 'mazda rx2 coupe' 'mazda rx-4'\n",
      " 'mazda glc deluxe' 'mazda 626' 'mazda glc' 'mazda rx-7 gs' 'mazda glc 4'\n",
      " 'mazda glc custom l' 'mazda glc custom' 'buick electra 225 custom'\n",
      " 'buick century luxus (sw)' 'buick century' 'buick skyhawk'\n",
      " 'buick opel isuzu deluxe' 'buick skylark' 'buick century special'\n",
      " 'buick regal sport coupe (turbo)' 'mercury cougar' 'mitsubishi mirage'\n",
      " 'mitsubishi lancer' 'mitsubishi outlander' 'mitsubishi g4'\n",
      " 'mitsubishi mirage g4' 'mitsubishi montero' 'mitsubishi pajero'\n",
      " 'Nissan versa' 'nissan gt-r' 'nissan rogue' 'nissan latio' 'nissan titan'\n",
      " 'nissan leaf' 'nissan juke' 'nissan note' 'nissan clipper' 'nissan nv200'\n",
      " 'nissan dayz' 'nissan fuga' 'nissan otti' 'nissan teana' 'nissan kicks'\n",
      " 'peugeot 504' 'peugeot 304' 'peugeot 504 (sw)' 'peugeot 604sl'\n",
      " 'peugeot 505s turbo diesel' 'plymouth fury iii' 'plymouth cricket'\n",
      " 'plymouth satellite custom (sw)' 'plymouth fury gran sedan'\n",
      " 'plymouth valiant' 'plymouth duster' 'porsche macan' 'porcshce panamera'\n",
      " 'porsche cayenne' 'porsche boxter' 'renault 12tl' 'renault 5 gtl'\n",
      " 'saab 99e' 'saab 99le' 'saab 99gle' 'subaru' 'subaru dl' 'subaru brz'\n",
      " 'subaru baja' 'subaru r1' 'subaru r2' 'subaru trezia' 'subaru tribeca'\n",
      " 'toyota corona mark ii' 'toyota corona' 'toyota corolla 1200'\n",
      " 'toyota corona hardtop' 'toyota corolla 1600 (sw)' 'toyota carina'\n",
      " 'toyota mark ii' 'toyota corolla' 'toyota corolla liftback'\n",
      " 'toyota celica gt liftback' 'toyota corolla tercel'\n",
      " 'toyota corona liftback' 'toyota starlet' 'toyota tercel'\n",
      " 'toyota cressida' 'toyota celica gt' 'toyouta tercel' 'vokswagen rabbit'\n",
      " 'volkswagen 1131 deluxe sedan' 'volkswagen model 111' 'volkswagen type 3'\n",
      " 'volkswagen 411 (sw)' 'volkswagen super beetle' 'volkswagen dasher'\n",
      " 'vw dasher' 'vw rabbit' 'volkswagen rabbit' 'volkswagen rabbit custom'\n",
      " 'volvo 145e (sw)' 'volvo 144ea' 'volvo 244dl' 'volvo 245' 'volvo 264gl'\n",
      " 'volvo diesel']\n",
      "\n",
      "Unique value count for CarName =  143\n"
     ]
    }
   ],
   "source": [
    "print(\"Unique values of CarName\\n\\n\",df.CarName.unique())  \n",
    "print(\"\\nUnique value count for CarName = \",df.CarName.nunique())\n"
   ]
  },
  {
   "cell_type": "code",
   "execution_count": 26,
   "id": "d07999d7",
   "metadata": {},
   "outputs": [],
   "source": [
    "# There is some inconsistency in the spellings of CarName, which needs to be fixed. \n",
    "df['CarName']=df['CarName'].str.split(' ').str.get(0)"
   ]
  },
  {
   "cell_type": "code",
   "execution_count": 27,
   "id": "5a2c3063",
   "metadata": {},
   "outputs": [
    {
     "data": {
      "text/plain": [
       "array(['alfa-romero', 'audi', 'bmw', 'chevrolet', 'dodge', 'honda',\n",
       "       'isuzu', 'jaguar', 'mazda', 'buick', 'mercury', 'mitsubishi',\n",
       "       'Nissan', 'nissan', 'peugeot', 'plymouth', 'porsche', 'porcshce',\n",
       "       'renault', 'saab', 'subaru', 'toyota', 'toyouta', 'vokswagen',\n",
       "       'volkswagen', 'vw', 'volvo'], dtype=object)"
      ]
     },
     "execution_count": 27,
     "metadata": {},
     "output_type": "execute_result"
    }
   ],
   "source": [
    "df.CarName.unique()"
   ]
  },
  {
   "cell_type": "code",
   "execution_count": 28,
   "id": "920644e3",
   "metadata": {},
   "outputs": [
    {
     "data": {
      "text/plain": [
       "27"
      ]
     },
     "execution_count": 28,
     "metadata": {},
     "output_type": "execute_result"
    }
   ],
   "source": [
    "df.CarName.nunique()"
   ]
  },
  {
   "cell_type": "code",
   "execution_count": 29,
   "id": "c231ce0f",
   "metadata": {},
   "outputs": [
    {
     "data": {
      "text/plain": [
       "array(['alfa-romero', 'audi', 'bmw', 'chevrolet', 'dodge', 'honda',\n",
       "       'isuzu', 'jaguar', 'mazda', 'buick', 'mercury', 'mitsubishi',\n",
       "       'nissan', 'peugeot', 'plymouth', 'porsche', 'renault', 'saab',\n",
       "       'subaru', 'toyota', 'volkswagen', 'volvo'], dtype=object)"
      ]
     },
     "execution_count": 29,
     "metadata": {},
     "output_type": "execute_result"
    }
   ],
   "source": [
    "''' when we observe carefully, we can conclude that CarName variable still consist of some \n",
    "unnecessary data. We need to do the following replacements:\n",
    "maxda -> mazda\n",
    "Nissan -> nissan\n",
    "porcshce -> porsche\n",
    "toyouta -> toyota\n",
    "vokswagen -> volkswagen\n",
    "vw -> volkswagen'''\n",
    "\n",
    "# Fixing values in CarName\n",
    "\n",
    "df.CarName = df.CarName.str.lower()\n",
    "\n",
    "def replace_name(a,b):\n",
    "    df.CarName.replace(a,b,inplace=True)\n",
    "\n",
    "replace_name('maxda','mazda')\n",
    "replace_name('porcshce','porsche')\n",
    "replace_name('toyouta','toyota')\n",
    "replace_name('vokswagen','volkswagen')\n",
    "replace_name('vw','volkswagen')\n",
    "\n",
    "df.CarName.unique()"
   ]
  },
  {
   "cell_type": "code",
   "execution_count": 30,
   "id": "2f87c060",
   "metadata": {},
   "outputs": [
    {
     "data": {
      "text/plain": [
       "22"
      ]
     },
     "execution_count": 30,
     "metadata": {},
     "output_type": "execute_result"
    }
   ],
   "source": [
    "df.CarName.nunique()"
   ]
  },
  {
   "cell_type": "markdown",
   "id": "dc35456b",
   "metadata": {},
   "source": [
    "### Outlier Detection"
   ]
  },
  {
   "cell_type": "markdown",
   "id": "b914021a",
   "metadata": {},
   "source": [
    "#### 1. Outlier Detection for int datatypes variables"
   ]
  },
  {
   "cell_type": "code",
   "execution_count": 31,
   "id": "6ea4a6c4",
   "metadata": {},
   "outputs": [
    {
     "data": {
      "image/png": "[encoded data removed]",
      "text/plain": [
       "<Figure size 432x288 with 1 Axes>"
      ]
     },
     "metadata": {
      "needs_background": "light"
     },
     "output_type": "display_data"
    },
    {
     "data": {
      "image/png": "[encoded data removed]",
      "text/plain": [
       "<Figure size 432x288 with 1 Axes>"
      ]
     },
     "metadata": {
      "needs_background": "light"
     },
     "output_type": "display_data"
    },
    {
     "data": {
      "image/png": "[encoded data removed]",
      "text/plain": [
       "<Figure size 432x288 with 1 Axes>"
      ]
     },
     "metadata": {
      "needs_background": "light"
     },
     "output_type": "display_data"
    },
    {
     "data": {
      "image/png": "[encoded data removed]",
      "text/plain": [
       "<Figure size 432x288 with 1 Axes>"
      ]
     },
     "metadata": {
      "needs_background": "light"
     },
     "output_type": "display_data"
    },
    {
     "data": {
      "image/png": "[encoded data removed]",
      "text/plain": [
       "<Figure size 432x288 with 1 Axes>"
      ]
     },
     "metadata": {
      "needs_background": "light"
     },
     "output_type": "display_data"
    },
    {
     "data": {
      "image/png": "[encoded data removed]",
      "text/plain": [
       "<Figure size 432x288 with 1 Axes>"
      ]
     },
     "metadata": {
      "needs_background": "light"
     },
     "output_type": "display_data"
    },
    {
     "data": {
      "image/png": "[encoded data removed]",
      "text/plain": [
       "<Figure size 432x288 with 1 Axes>"
      ]
     },
     "metadata": {
      "needs_background": "light"
     },
     "output_type": "display_data"
    }
   ],
   "source": [
    "\n",
    "int_col = df.dtypes[df.dtypes=='int64'].index\n",
    "\n",
    "for col in int_col:\n",
    "    ax = plt.boxplot( df[col])\n",
    "    plt.title(f\"{col}\")\n",
    "    plt.grid()\n",
    "    plt.show()"
   ]
  },
  {
   "cell_type": "code",
   "execution_count": 32,
   "id": "36f2f985",
   "metadata": {},
   "outputs": [
    {
     "data": {
      "image/png": "[encoded data removed]",
      "text/plain": [
       "<Figure size 432x288 with 1 Axes>"
      ]
     },
     "metadata": {
      "needs_background": "light"
     },
     "output_type": "display_data"
    }
   ],
   "source": [
    "# removal of outlier for curbweight\n",
    "df_no_outlier=df[df.curbweight<4066]\n",
    "\n",
    "int_col = [\"curbweight\"]\n",
    "\n",
    "for col in int_col:\n",
    "    df_plot=df_no_outlier[col]\n",
    "    ax = plt.boxplot(df_plot)\n",
    "    plt.title(f\"{col}\")\n",
    "    plt.show()"
   ]
  },
  {
   "cell_type": "code",
   "execution_count": 33,
   "id": "9ad02ff5",
   "metadata": {},
   "outputs": [
    {
     "data": {
      "image/png": "[encoded data removed]",
      "text/plain": [
       "<Figure size 432x288 with 1 Axes>"
      ]
     },
     "metadata": {
      "needs_background": "light"
     },
     "output_type": "display_data"
    }
   ],
   "source": [
    "# removal of outlier for horsepower\n",
    "df_no_outlier=df[df.horsepower<200]\n",
    "\n",
    "int_col = [\"horsepower\"]\n",
    "\n",
    "for col in int_col:\n",
    "    df_plot=df_no_outlier[col]\n",
    "    ax = plt.boxplot(df_plot)\n",
    "    plt.title(f\"{col}\")\n",
    "    plt.show()"
   ]
  },
  {
   "cell_type": "code",
   "execution_count": 34,
   "id": "26aabc71",
   "metadata": {},
   "outputs": [
    {
     "data": {
      "image/png": "[encoded data removed]",
      "text/plain": [
       "<Figure size 432x288 with 1 Axes>"
      ]
     },
     "metadata": {
      "needs_background": "light"
     },
     "output_type": "display_data"
    }
   ],
   "source": [
    "# removal of outlier for peakrpm\n",
    "df_no_outlier=df[df.peakrpm<6600]\n",
    "\n",
    "int_col = [\"peakrpm\"]\n",
    "\n",
    "for col in int_col:\n",
    "    df_plot=df_no_outlier[col]\n",
    "    ax = plt.boxplot(df_plot)\n",
    "    plt.title(f\"{col}\")\n",
    "    plt.show()"
   ]
  },
  {
   "cell_type": "code",
   "execution_count": 35,
   "id": "073267bf",
   "metadata": {},
   "outputs": [
    {
     "data": {
      "image/png": "[encoded data removed]",
      "text/plain": [
       "<Figure size 432x288 with 1 Axes>"
      ]
     },
     "metadata": {
      "needs_background": "light"
     },
     "output_type": "display_data"
    }
   ],
   "source": [
    "# removal of outlier for citympg\n",
    "df_no_outlier=df[df.citympg<45]\n",
    "\n",
    "int_col = [\"citympg\"]\n",
    "\n",
    "for col in int_col:\n",
    "    df_plot=df_no_outlier[col]\n",
    "    ax = plt.boxplot(df_plot)\n",
    "    plt.title(f\"{col}\")\n",
    "    plt.show()"
   ]
  },
  {
   "cell_type": "code",
   "execution_count": 36,
   "id": "e7262972",
   "metadata": {},
   "outputs": [
    {
     "data": {
      "image/png": "[encoded data removed]",
      "text/plain": [
       "<Figure size 432x288 with 1 Axes>"
      ]
     },
     "metadata": {
      "needs_background": "light"
     },
     "output_type": "display_data"
    }
   ],
   "source": [
    "# removal of outlier for highwaympg\n",
    "df_no_outlier=df[df.highwaympg<50]\n",
    "\n",
    "int_col = [\"highwaympg\"]\n",
    "\n",
    "for col in int_col:\n",
    "    df_plot=df_no_outlier[col]\n",
    "    ax = plt.boxplot(df_plot)\n",
    "    plt.title(f\"{col}\")\n",
    "    plt.show()"
   ]
  },
  {
   "cell_type": "code",
   "execution_count": 37,
   "id": "f0e472fb",
   "metadata": {},
   "outputs": [],
   "source": [
    "df_no_int_outlier=df_no_outlier[(df_no_outlier.curbweight<4066) & (df_no_outlier.horsepower<200) & (df_no_outlier.peakrpm<6600) & (df_no_outlier.citympg<45) & (df_no_outlier.highwaympg<50)]"
   ]
  },
  {
   "cell_type": "code",
   "execution_count": 38,
   "id": "aa6493cb",
   "metadata": {},
   "outputs": [
    {
     "name": "stdout",
     "output_type": "stream",
     "text": [
      "maximum value of curbweight =  3900\n",
      "maximum value of horsepower =  184\n",
      "maximum value of highwaympg =  47\n",
      "maximum value of peakrpm    =  6000\n",
      "maximum value of citympg    =  38\n"
     ]
    }
   ],
   "source": [
    "print('maximum value of curbweight = ',df_no_int_outlier.curbweight.max())\n",
    "print('maximum value of horsepower = ',df_no_int_outlier.horsepower.max())\n",
    "print('maximum value of highwaympg = ',df_no_int_outlier.highwaympg.max())\n",
    "print('maximum value of peakrpm    = ',df_no_int_outlier.peakrpm.max())\n",
    "print('maximum value of citympg    = ',df_no_int_outlier.citympg.max())"
   ]
  },
  {
   "cell_type": "markdown",
   "id": "d78b51f8",
   "metadata": {},
   "source": [
    "#### 2. Outlier Detection and removal for float datatypes variables"
   ]
  },
  {
   "cell_type": "code",
   "execution_count": 39,
   "id": "93dc5eb8",
   "metadata": {},
   "outputs": [
    {
     "data": {
      "image/png": "[encoded data removed]",
      "text/plain": [
       "<Figure size 432x288 with 1 Axes>"
      ]
     },
     "metadata": {
      "needs_background": "light"
     },
     "output_type": "display_data"
    },
    {
     "data": {
      "image/png": "[encoded data removed]",
      "text/plain": [
       "<Figure size 432x288 with 1 Axes>"
      ]
     },
     "metadata": {
      "needs_background": "light"
     },
     "output_type": "display_data"
    },
    {
     "data": {
      "image/png": "[encoded data removed]",
      "text/plain": [
       "<Figure size 432x288 with 1 Axes>"
      ]
     },
     "metadata": {
      "needs_background": "light"
     },
     "output_type": "display_data"
    },
    {
     "data": {
      "image/png": "[encoded data removed]",
      "text/plain": [
       "<Figure size 432x288 with 1 Axes>"
      ]
     },
     "metadata": {
      "needs_background": "light"
     },
     "output_type": "display_data"
    },
    {
     "data": {
      "image/png": "[encoded data removed]",
      "text/plain": [
       "<Figure size 432x288 with 1 Axes>"
      ]
     },
     "metadata": {
      "needs_background": "light"
     },
     "output_type": "display_data"
    },
    {
     "data": {
      "image/png": "[encoded data removed]",
      "text/plain": [
       "<Figure size 432x288 with 1 Axes>"
      ]
     },
     "metadata": {
      "needs_background": "light"
     },
     "output_type": "display_data"
    },
    {
     "data": {
      "image/png": "[encoded data removed]",
      "text/plain": [
       "<Figure size 432x288 with 1 Axes>"
      ]
     },
     "metadata": {
      "needs_background": "light"
     },
     "output_type": "display_data"
    },
    {
     "data": {
      "image/png": "[encoded data removed]",
      "text/plain": [
       "<Figure size 432x288 with 1 Axes>"
      ]
     },
     "metadata": {
      "needs_background": "light"
     },
     "output_type": "display_data"
    },
    {
     "data": {
      "image/png": "[encoded data removed]",
      "text/plain": [
       "<Figure size 432x288 with 1 Axes>"
      ]
     },
     "metadata": {
      "needs_background": "light"
     },
     "output_type": "display_data"
    }
   ],
   "source": [
    "float_col = df_no_int_outlier.dtypes[df_no_int_outlier.dtypes==float].index\n",
    "\n",
    "for col in float_col:\n",
    "    ax = plt.boxplot( df_no_int_outlier[col])\n",
    "    plt.title(f\"{col}\")\n",
    "    plt.grid()\n",
    "    plt.show()"
   ]
  },
  {
   "cell_type": "code",
   "execution_count": 40,
   "id": "f8799da7",
   "metadata": {},
   "outputs": [
    {
     "data": {
      "image/png": "[encoded data removed]",
      "text/plain": [
       "<Figure size 432x288 with 1 Axes>"
      ]
     },
     "metadata": {
      "needs_background": "light"
     },
     "output_type": "display_data"
    }
   ],
   "source": [
    "# removal of outlier for wheelbase\n",
    "df_no_outlier_float=df_no_int_outlier[df_no_int_outlier.wheelbase<110]\n",
    "\n",
    "float_col = [\"wheelbase\"]\n",
    "\n",
    "for col in float_col:\n",
    "    df_plot=df_no_outlier_float[col]\n",
    "    ax = plt.boxplot(df_plot)\n",
    "    plt.title(f\"{col}\")\n",
    "    plt.show()"
   ]
  },
  {
   "cell_type": "code",
   "execution_count": 41,
   "id": "6bada5a5",
   "metadata": {},
   "outputs": [
    {
     "data": {
      "image/png": "[encoded data removed]",
      "text/plain": [
       "<Figure size 432x288 with 1 Axes>"
      ]
     },
     "metadata": {
      "needs_background": "light"
     },
     "output_type": "display_data"
    }
   ],
   "source": [
    "# removal of outlier for carlength\n",
    "df_no_outlier_float=df_no_outlier_float[(df_no_outlier_float.carlength<208) & (df_no_outlier_float.carlength>150)]\n",
    "\n",
    "float_col = [\"carlength\"]\n",
    "\n",
    "for col in float_col:\n",
    "    df_plot=df_no_outlier_float[col]\n",
    "    ax = plt.boxplot(df_plot)\n",
    "    plt.title(f\"{col}\")\n",
    "    plt.show()"
   ]
  },
  {
   "cell_type": "code",
   "execution_count": 42,
   "id": "f45b31ed",
   "metadata": {},
   "outputs": [
    {
     "data": {
      "image/png": "[encoded data removed]",
      "text/plain": [
       "<Figure size 432x288 with 1 Axes>"
      ]
     },
     "metadata": {
      "needs_background": "light"
     },
     "output_type": "display_data"
    }
   ],
   "source": [
    "# removal of outlier for carwidth\n",
    "df_no_outlier_float=df_no_outlier_float[df_no_outlier_float.carwidth<70]\n",
    "\n",
    "float_col = [\"carwidth\"]\n",
    "\n",
    "for col in float_col:\n",
    "    df_plot=df_no_outlier_float[col]\n",
    "    ax = plt.boxplot(df_plot)\n",
    "    plt.title(f\"{col}\")\n",
    "    plt.show()"
   ]
  },
  {
   "cell_type": "code",
   "execution_count": 43,
   "id": "c84a7fa0",
   "metadata": {},
   "outputs": [
    {
     "data": {
      "image/png": "[encoded data removed]",
      "text/plain": [
       "<Figure size 432x288 with 1 Axes>"
      ]
     },
     "metadata": {
      "needs_background": "light"
     },
     "output_type": "display_data"
    }
   ],
   "source": [
    "# removal of outlier for enginesize\n",
    "df_no_outlier_float=df_no_outlier_float[df_no_outlier_float.enginesize<209]\n",
    "\n",
    "float_col = [\"enginesize\"]\n",
    "\n",
    "for col in float_col:\n",
    "    df_plot=df_no_outlier_float[col]\n",
    "    ax = plt.boxplot(df_plot)\n",
    "    plt.title(f\"{col}\")\n",
    "    plt.show()"
   ]
  },
  {
   "cell_type": "code",
   "execution_count": 44,
   "id": "12b452c6",
   "metadata": {},
   "outputs": [
    {
     "data": {
      "image/png": "[encoded data removed]",
      "text/plain": [
       "<Figure size 432x288 with 1 Axes>"
      ]
     },
     "metadata": {
      "needs_background": "light"
     },
     "output_type": "display_data"
    }
   ],
   "source": [
    "# removal of outlier for stroke\n",
    "df_no_outlier_float=df_no_outlier_float[(df_no_outlier_float.stroke<3.85) & (df_no_outlier_float.stroke>2.8)]\n",
    "\n",
    "float_col = [\"stroke\"]\n",
    "\n",
    "for col in float_col:\n",
    "    df_plot=df_no_outlier_float[col]\n",
    "    ax = plt.boxplot(df_plot)\n",
    "    plt.title(f\"{col}\")\n",
    "    plt.show()"
   ]
  },
  {
   "cell_type": "code",
   "execution_count": 45,
   "id": "09add923",
   "metadata": {},
   "outputs": [],
   "source": [
    "# removal of outlier for compressionratio\n",
    "df_no_outlier_float=df_no_outlier_float[(df_no_outlier_float.compressionratio<11) & (df_no_outlier_float.compressionratio>8)]"
   ]
  },
  {
   "cell_type": "code",
   "execution_count": 46,
   "id": "95727349",
   "metadata": {},
   "outputs": [
    {
     "data": {
      "image/png": "[encoded data removed]",
      "text/plain": [
       "<Figure size 432x288 with 1 Axes>"
      ]
     },
     "metadata": {
      "needs_background": "light"
     },
     "output_type": "display_data"
    }
   ],
   "source": [
    "float_col = [\"compressionratio\"]\n",
    "\n",
    "for col in float_col:\n",
    "    df_plot=df_no_outlier_float[col]\n",
    "    ax = plt.boxplot(df_plot)\n",
    "    plt.title(f\"{col}\")\n",
    "    plt.show()"
   ]
  },
  {
   "cell_type": "code",
   "execution_count": 47,
   "id": "e680b36e",
   "metadata": {},
   "outputs": [
    {
     "data": {
      "image/png": "[encoded data removed]",
      "text/plain": [
       "<Figure size 432x288 with 1 Axes>"
      ]
     },
     "metadata": {
      "needs_background": "light"
     },
     "output_type": "display_data"
    }
   ],
   "source": [
    "# removal of outlier for price\n",
    "df_no_outlier_float=df_no_outlier_float[(df_no_outlier_float.price<25500)]\n",
    "\n",
    "df_plot=df_no_outlier_float[\"price\"]\n",
    "ax = plt.boxplot(df_no_outlier_float[\"price\"])\n",
    "plt.title('price')\n",
    "plt.show()"
   ]
  },
  {
   "cell_type": "code",
   "execution_count": 49,
   "id": "1516a814",
   "metadata": {},
   "outputs": [],
   "source": [
    " df.to_csv(\"processed_data.csv\",index=False)"
   ]
  },
  {
   "cell_type": "code",
   "execution_count": null,
   "id": "d3f62d1d",
   "metadata": {},
   "outputs": [],
   "source": []
  }
 ],
 "metadata": {
  "kernelspec": {
   "display_name": "Python 3 (ipykernel)",
   "language": "python",
   "name": "python3"
  },
  "language_info": {
   "codemirror_mode": {
    "name": "ipython",
    "version": 3
   },
   "file_extension": ".py",
   "mimetype": "text/x-python",
   "name": "python",
   "nbconvert_exporter": "python",
   "pygments_lexer": "ipython3",
   "version": "3.9.7"
  }
 },
 "nbformat": 4,
 "nbformat_minor": 5
}
